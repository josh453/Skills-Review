{
 "cells": [
  {
   "cell_type": "code",
   "execution_count": 1,
   "metadata": {
    "collapsed": false
   },
   "outputs": [],
   "source": [
    "%matplotlib inline\n",
    "import numpy as np\n",
    "import pandas as pd\n",
    "import matplotlib.pyplot as plt"
   ]
  },
  {
   "cell_type": "code",
   "execution_count": 2,
   "metadata": {
    "collapsed": false
   },
   "outputs": [],
   "source": [
    "#Baby name data URL\n",
    "url1 = 'https://raw.githubusercontent.com/hadley/data-baby-names/master/baby-names.csv'\n",
    "#Whitehouse API endpoint in JSON\n",
    "url2 = 'https://opendata.socrata.com/resource/vedg-c5sb.json'\n",
    "data1 = pd.read_csv(url1)\n",
    "data2 = pd.read_json(url2)"
   ]
  },
  {
   "cell_type": "code",
   "execution_count": 3,
   "metadata": {
    "collapsed": false
   },
   "outputs": [
    {
     "name": "stdout",
     "output_type": "stream",
     "text": [
      "Baby names dataset contains 258000 rows and 4 columns.\n",
      "Whitehouse dataset contains 469 rows and 5 columns.\n"
     ]
    }
   ],
   "source": [
    "print(\"Baby names dataset contains\", data1.shape[0], \"rows and\", data1.shape[1], \"columns.\")\n",
    "print(\"Whitehouse dataset contains\", data2.shape[0], \"rows and\", data2.shape[1], \"columns.\")"
   ]
  },
  {
   "cell_type": "code",
   "execution_count": 4,
   "metadata": {
    "collapsed": false
   },
   "outputs": [
    {
     "data": {
      "text/html": [
       "<div>\n",
       "<table border=\"1\" class=\"dataframe\">\n",
       "  <thead>\n",
       "    <tr style=\"text-align: right;\">\n",
       "      <th></th>\n",
       "      <th>year</th>\n",
       "      <th>name</th>\n",
       "      <th>percent</th>\n",
       "      <th>sex</th>\n",
       "    </tr>\n",
       "  </thead>\n",
       "  <tbody>\n",
       "    <tr>\n",
       "      <th>0</th>\n",
       "      <td>1880</td>\n",
       "      <td>John</td>\n",
       "      <td>0.081541</td>\n",
       "      <td>boy</td>\n",
       "    </tr>\n",
       "    <tr>\n",
       "      <th>1</th>\n",
       "      <td>1880</td>\n",
       "      <td>William</td>\n",
       "      <td>0.080511</td>\n",
       "      <td>boy</td>\n",
       "    </tr>\n",
       "    <tr>\n",
       "      <th>2</th>\n",
       "      <td>1880</td>\n",
       "      <td>James</td>\n",
       "      <td>0.050057</td>\n",
       "      <td>boy</td>\n",
       "    </tr>\n",
       "    <tr>\n",
       "      <th>3</th>\n",
       "      <td>1880</td>\n",
       "      <td>Charles</td>\n",
       "      <td>0.045167</td>\n",
       "      <td>boy</td>\n",
       "    </tr>\n",
       "    <tr>\n",
       "      <th>4</th>\n",
       "      <td>1880</td>\n",
       "      <td>George</td>\n",
       "      <td>0.043292</td>\n",
       "      <td>boy</td>\n",
       "    </tr>\n",
       "  </tbody>\n",
       "</table>\n",
       "</div>"
      ],
      "text/plain": [
       "   year     name   percent  sex\n",
       "0  1880     John  0.081541  boy\n",
       "1  1880  William  0.080511  boy\n",
       "2  1880    James  0.050057  boy\n",
       "3  1880  Charles  0.045167  boy\n",
       "4  1880   George  0.043292  boy"
      ]
     },
     "execution_count": 4,
     "metadata": {},
     "output_type": "execute_result"
    }
   ],
   "source": [
    "data1.head()"
   ]
  },
  {
   "cell_type": "code",
   "execution_count": 5,
   "metadata": {
    "collapsed": false
   },
   "outputs": [
    {
     "data": {
      "text/html": [
       "<div>\n",
       "<table border=\"1\" class=\"dataframe\">\n",
       "  <thead>\n",
       "    <tr style=\"text-align: right;\">\n",
       "      <th></th>\n",
       "      <th>year</th>\n",
       "      <th>percent</th>\n",
       "    </tr>\n",
       "  </thead>\n",
       "  <tbody>\n",
       "    <tr>\n",
       "      <th>count</th>\n",
       "      <td>258000.000000</td>\n",
       "      <td>258000.000000</td>\n",
       "    </tr>\n",
       "    <tr>\n",
       "      <th>mean</th>\n",
       "      <td>1944.000000</td>\n",
       "      <td>0.000894</td>\n",
       "    </tr>\n",
       "    <tr>\n",
       "      <th>std</th>\n",
       "      <td>37.238046</td>\n",
       "      <td>0.003016</td>\n",
       "    </tr>\n",
       "    <tr>\n",
       "      <th>min</th>\n",
       "      <td>1880.000000</td>\n",
       "      <td>0.000026</td>\n",
       "    </tr>\n",
       "    <tr>\n",
       "      <th>25%</th>\n",
       "      <td>1912.000000</td>\n",
       "      <td>0.000081</td>\n",
       "    </tr>\n",
       "    <tr>\n",
       "      <th>50%</th>\n",
       "      <td>1944.000000</td>\n",
       "      <td>0.000164</td>\n",
       "    </tr>\n",
       "    <tr>\n",
       "      <th>75%</th>\n",
       "      <td>1976.000000</td>\n",
       "      <td>0.000507</td>\n",
       "    </tr>\n",
       "    <tr>\n",
       "      <th>max</th>\n",
       "      <td>2008.000000</td>\n",
       "      <td>0.081541</td>\n",
       "    </tr>\n",
       "  </tbody>\n",
       "</table>\n",
       "</div>"
      ],
      "text/plain": [
       "                year        percent\n",
       "count  258000.000000  258000.000000\n",
       "mean     1944.000000       0.000894\n",
       "std        37.238046       0.003016\n",
       "min      1880.000000       0.000026\n",
       "25%      1912.000000       0.000081\n",
       "50%      1944.000000       0.000164\n",
       "75%      1976.000000       0.000507\n",
       "max      2008.000000       0.081541"
      ]
     },
     "execution_count": 5,
     "metadata": {},
     "output_type": "execute_result"
    }
   ],
   "source": [
    "#Descriptive stats for baby names data\n",
    "data1.describe()"
   ]
  },
  {
   "cell_type": "code",
   "execution_count": 17,
   "metadata": {
    "collapsed": false,
    "scrolled": false
   },
   "outputs": [
    {
     "data": {
      "text/plain": [
       "<matplotlib.text.Text at 0x923c978>"
      ]
     },
     "execution_count": 17,
     "metadata": {},
     "output_type": "execute_result"
    },
    {
     "data": {
      "image/png": "[encoded data removed]",
      "text/plain": [
       "<matplotlib.figure.Figure at 0x91c4240>"
      ]
     },
     "metadata": {},
     "output_type": "display_data"
    }
   ],
   "source": [
    "plt.figure(figsize=(20,10))\n",
    "plt.boxplot(np.log(data1['percent']))\n",
    "plt.grid(True)\n",
    "plt.title('Boxplot of Percent \\n', fontsize=20)\n",
    "plt.ylabel('Log of Percent', fontsize=16)"
   ]
  },
  {
   "cell_type": "code",
   "execution_count": 18,
   "metadata": {
    "collapsed": false
   },
   "outputs": [
    {
     "data": {
      "text/plain": [
       "<matplotlib.text.Text at 0x92400b8>"
      ]
     },
     "execution_count": 18,
     "metadata": {},
     "output_type": "execute_result"
    },
    {
     "data": {
      "image/png": "[encoded data removed]",
      "text/plain": [
       "<matplotlib.figure.Figure at 0x9253208>"
      ]
     },
     "metadata": {},
     "output_type": "display_data"
    }
   ],
   "source": [
    "plt.figure(figsize=(20,10))\n",
    "plt.hist(data1['percent'], log=True)\n",
    "plt.grid(True)\n",
    "plt.title('Histogram of Percent \\nN = {}'.format(len(data1['percent'])), fontsize=20)\n",
    "plt.xlabel('Log of Percent', fontsize=16)\n",
    "plt.ylabel('Frequency', fontsize=16)"
   ]
  },
  {
   "cell_type": "code",
   "execution_count": 8,
   "metadata": {
    "collapsed": false
   },
   "outputs": [
    {
     "data": {
      "text/plain": [
       "year       False\n",
       "name       False\n",
       "percent    False\n",
       "sex        False\n",
       "dtype: bool"
      ]
     },
     "execution_count": 8,
     "metadata": {},
     "output_type": "execute_result"
    }
   ],
   "source": [
    "#Check for nulls\n",
    "data1.isnull().any()"
   ]
  },
  {
   "cell_type": "code",
   "execution_count": 9,
   "metadata": {
    "collapsed": false
   },
   "outputs": [
    {
     "name": "stdout",
     "output_type": "stream",
     "text": [
      "Starting year: 1880 Ending year: 2008 \n",
      "Total Years: 129\n"
     ]
    }
   ],
   "source": [
    "#Print the starting and ending years and the total number of years\n",
    "print(\"Starting year:\",data1['year'].min(),\"Ending year:\",data1['year'].max(),\"\\nTotal Years:\",len(data1['year'].unique()))"
   ]
  },
  {
   "cell_type": "code",
   "execution_count": 10,
   "metadata": {
    "collapsed": false
   },
   "outputs": [
    {
     "name": "stdout",
     "output_type": "stream",
     "text": [
      "There are 6782 unique names.\n"
     ]
    }
   ],
   "source": [
    "#Print number of unique names in data\n",
    "print(\"There are\", len(data1['name'].unique()), \"unique names.\")"
   ]
  },
  {
   "cell_type": "code",
   "execution_count": 11,
   "metadata": {
    "collapsed": false
   },
   "outputs": [
    {
     "data": {
      "text/plain": [
       "array([2000], dtype=int64)"
      ]
     },
     "execution_count": 11,
     "metadata": {},
     "output_type": "execute_result"
    }
   ],
   "source": [
    "#Check to see if each year contains the same number of names\n",
    "data1.groupby(['year'])['name'].count().unique()"
   ]
  },
  {
   "cell_type": "code",
   "execution_count": 12,
   "metadata": {
    "collapsed": false
   },
   "outputs": [
    {
     "data": {
      "text/html": [
       "<div>\n",
       "<table border=\"1\" class=\"dataframe\">\n",
       "  <thead>\n",
       "    <tr style=\"text-align: right;\">\n",
       "      <th></th>\n",
       "      <th>employee_name</th>\n",
       "      <th>employee_status</th>\n",
       "      <th>pay_basis</th>\n",
       "      <th>position_title</th>\n",
       "      <th>salary</th>\n",
       "    </tr>\n",
       "  </thead>\n",
       "  <tbody>\n",
       "    <tr>\n",
       "      <th>0</th>\n",
       "      <td>Zichal, Heather R.</td>\n",
       "      <td>Employee</td>\n",
       "      <td>Per Annum</td>\n",
       "      <td>DEPUTY ASSISTANT TO THE PRESIDENT FOR ENERGY A...</td>\n",
       "      <td>100000</td>\n",
       "    </tr>\n",
       "    <tr>\n",
       "      <th>1</th>\n",
       "      <td>Zelman, Allison L.</td>\n",
       "      <td>Employee</td>\n",
       "      <td>Per Annum</td>\n",
       "      <td>POLICY ASSISTANT</td>\n",
       "      <td>50000</td>\n",
       "    </tr>\n",
       "    <tr>\n",
       "      <th>2</th>\n",
       "      <td>Young, Latoya A.</td>\n",
       "      <td>Employee</td>\n",
       "      <td>Per Annum</td>\n",
       "      <td>RECORDS MANAGEMENT ANALYST</td>\n",
       "      <td>58511</td>\n",
       "    </tr>\n",
       "    <tr>\n",
       "      <th>3</th>\n",
       "      <td>Young, Katherine H.</td>\n",
       "      <td>Employee</td>\n",
       "      <td>Per Annum</td>\n",
       "      <td>STAFF ASSISTANT</td>\n",
       "      <td>42000</td>\n",
       "    </tr>\n",
       "    <tr>\n",
       "      <th>4</th>\n",
       "      <td>Young, Jr., Reginald D.</td>\n",
       "      <td>Employee</td>\n",
       "      <td>Per Annum</td>\n",
       "      <td>RECORDS MANAGEMENT ANALYST</td>\n",
       "      <td>60232</td>\n",
       "    </tr>\n",
       "  </tbody>\n",
       "</table>\n",
       "</div>"
      ],
      "text/plain": [
       "             employee_name employee_status  pay_basis  \\\n",
       "0       Zichal, Heather R.        Employee  Per Annum   \n",
       "1       Zelman, Allison L.        Employee  Per Annum   \n",
       "2         Young, Latoya A.        Employee  Per Annum   \n",
       "3      Young, Katherine H.        Employee  Per Annum   \n",
       "4  Young, Jr., Reginald D.        Employee  Per Annum   \n",
       "\n",
       "                                      position_title  salary  \n",
       "0  DEPUTY ASSISTANT TO THE PRESIDENT FOR ENERGY A...  100000  \n",
       "1                                   POLICY ASSISTANT   50000  \n",
       "2                         RECORDS MANAGEMENT ANALYST   58511  \n",
       "3                                    STAFF ASSISTANT   42000  \n",
       "4                         RECORDS MANAGEMENT ANALYST   60232  "
      ]
     },
     "execution_count": 12,
     "metadata": {},
     "output_type": "execute_result"
    }
   ],
   "source": [
    "data2.head()"
   ]
  },
  {
   "cell_type": "code",
   "execution_count": 13,
   "metadata": {
    "collapsed": false
   },
   "outputs": [
    {
     "data": {
      "text/html": [
       "<div>\n",
       "<table border=\"1\" class=\"dataframe\">\n",
       "  <thead>\n",
       "    <tr style=\"text-align: right;\">\n",
       "      <th></th>\n",
       "      <th>salary</th>\n",
       "    </tr>\n",
       "  </thead>\n",
       "  <tbody>\n",
       "    <tr>\n",
       "      <th>count</th>\n",
       "      <td>469.000000</td>\n",
       "    </tr>\n",
       "    <tr>\n",
       "      <th>mean</th>\n",
       "      <td>82721.336887</td>\n",
       "    </tr>\n",
       "    <tr>\n",
       "      <th>std</th>\n",
       "      <td>41589.433381</td>\n",
       "    </tr>\n",
       "    <tr>\n",
       "      <th>min</th>\n",
       "      <td>0.000000</td>\n",
       "    </tr>\n",
       "    <tr>\n",
       "      <th>25%</th>\n",
       "      <td>45900.000000</td>\n",
       "    </tr>\n",
       "    <tr>\n",
       "      <th>50%</th>\n",
       "      <td>66300.000000</td>\n",
       "    </tr>\n",
       "    <tr>\n",
       "      <th>75%</th>\n",
       "      <td>113000.000000</td>\n",
       "    </tr>\n",
       "    <tr>\n",
       "      <th>max</th>\n",
       "      <td>179700.000000</td>\n",
       "    </tr>\n",
       "  </tbody>\n",
       "</table>\n",
       "</div>"
      ],
      "text/plain": [
       "              salary\n",
       "count     469.000000\n",
       "mean    82721.336887\n",
       "std     41589.433381\n",
       "min         0.000000\n",
       "25%     45900.000000\n",
       "50%     66300.000000\n",
       "75%    113000.000000\n",
       "max    179700.000000"
      ]
     },
     "execution_count": 13,
     "metadata": {},
     "output_type": "execute_result"
    }
   ],
   "source": [
    "#Descriptive stats for Whitehouse data\n",
    "data2.describe()"
   ]
  },
  {
   "cell_type": "markdown",
   "metadata": {},
   "source": [
    "Interestingly from the describe at least one of the minimum salaries is 0. "
   ]
  },
  {
   "cell_type": "code",
   "execution_count": 14,
   "metadata": {
    "collapsed": false
   },
   "outputs": [
    {
     "data": {
      "text/html": [
       "<div>\n",
       "<table border=\"1\" class=\"dataframe\">\n",
       "  <thead>\n",
       "    <tr style=\"text-align: right;\">\n",
       "      <th></th>\n",
       "      <th>employee_name</th>\n",
       "      <th>employee_status</th>\n",
       "      <th>pay_basis</th>\n",
       "      <th>position_title</th>\n",
       "      <th>salary</th>\n",
       "    </tr>\n",
       "  </thead>\n",
       "  <tbody>\n",
       "    <tr>\n",
       "      <th>7</th>\n",
       "      <td>Wong, Shale L.</td>\n",
       "      <td>Employee</td>\n",
       "      <td>Per Annum</td>\n",
       "      <td>POLICY ADVISOR</td>\n",
       "      <td>0</td>\n",
       "    </tr>\n",
       "    <tr>\n",
       "      <th>191</th>\n",
       "      <td>McGinnis, Patricia G.</td>\n",
       "      <td>Employee</td>\n",
       "      <td>Per Annum</td>\n",
       "      <td>ADVISOR</td>\n",
       "      <td>0</td>\n",
       "    </tr>\n",
       "    <tr>\n",
       "      <th>402</th>\n",
       "      <td>Chen, Margaret C.</td>\n",
       "      <td>Employee</td>\n",
       "      <td>Per Annum</td>\n",
       "      <td>SPECIAL ASSISTANT</td>\n",
       "      <td>0</td>\n",
       "    </tr>\n",
       "  </tbody>\n",
       "</table>\n",
       "</div>"
      ],
      "text/plain": [
       "             employee_name employee_status  pay_basis     position_title  \\\n",
       "7           Wong, Shale L.        Employee  Per Annum     POLICY ADVISOR   \n",
       "191  McGinnis, Patricia G.        Employee  Per Annum            ADVISOR   \n",
       "402      Chen, Margaret C.        Employee  Per Annum  SPECIAL ASSISTANT   \n",
       "\n",
       "     salary  \n",
       "7         0  \n",
       "191       0  \n",
       "402       0  "
      ]
     },
     "execution_count": 14,
     "metadata": {},
     "output_type": "execute_result"
    }
   ],
   "source": [
    "#Employees that have a reported salary of $0.00\n",
    "data2[data2.salary == 0]"
   ]
  },
  {
   "cell_type": "code",
   "execution_count": 16,
   "metadata": {
    "collapsed": false
   },
   "outputs": [
    {
     "data": {
      "text/plain": [
       "<matplotlib.text.Text at 0x918ee10>"
      ]
     },
     "execution_count": 16,
     "metadata": {},
     "output_type": "execute_result"
    },
    {
     "data": {
      "image/png": "[encoded data removed]",
      "text/plain": [
       "<matplotlib.figure.Figure at 0x8da4a90>"
      ]
     },
     "metadata": {},
     "output_type": "display_data"
    }
   ],
   "source": [
    "#Box plot of all salaries\n",
    "plt.figure(figsize=(20,10))\n",
    "plt.boxplot(data2['salary'])\n",
    "plt.grid(True)\n",
    "plt.title('Boxplot of Salaries \\n', fontsize=20)\n",
    "plt.ylabel('Salary in Dollars', fontsize=16)"
   ]
  },
  {
   "cell_type": "code",
   "execution_count": 20,
   "metadata": {
    "collapsed": false
   },
   "outputs": [
    {
     "data": {
      "text/plain": [
       "<matplotlib.text.Text at 0x996e9e8>"
      ]
     },
     "execution_count": 20,
     "metadata": {},
     "output_type": "execute_result"
    },
    {
     "data": {
      "image/png": "[encoded data removed]",
      "text/plain": [
       "<matplotlib.figure.Figure at 0x9540588>"
      ]
     },
     "metadata": {},
     "output_type": "display_data"
    }
   ],
   "source": [
    "#Histogram of all salaries\n",
    "plt.figure(figsize=(20,10))\n",
    "plt.hist(data2['salary'])\n",
    "plt.grid(True)\n",
    "plt.title('Histogram of Salaries \\nN = {}'.format(len(data2['salary'])), fontsize=20)\n",
    "plt.xlabel('Salary in Dollars', fontsize=16)\n",
    "plt.ylabel('Frequency', fontsize=16)"
   ]
  },
  {
   "cell_type": "code",
   "execution_count": 21,
   "metadata": {
    "collapsed": false
   },
   "outputs": [
    {
     "data": {
      "text/plain": [
       "employee_name      False\n",
       "employee_status    False\n",
       "pay_basis          False\n",
       "position_title     False\n",
       "salary             False\n",
       "dtype: bool"
      ]
     },
     "execution_count": 21,
     "metadata": {},
     "output_type": "execute_result"
    }
   ],
   "source": [
    "#Check for nulls\n",
    "data2.isnull().any()"
   ]
  },
  {
   "cell_type": "markdown",
   "metadata": {},
   "source": [
    "Since we want to merge these two datasets on employee_name and infer the gender from the first names in the baby names data, we need to truncate employee names to only first names. We could also use str.find or isin, but that would also connect last names."
   ]
  },
  {
   "cell_type": "code",
   "execution_count": 22,
   "metadata": {
    "collapsed": false
   },
   "outputs": [
    {
     "data": {
      "text/html": [
       "<div>\n",
       "<table border=\"1\" class=\"dataframe\">\n",
       "  <thead>\n",
       "    <tr style=\"text-align: right;\">\n",
       "      <th></th>\n",
       "      <th>employee_name</th>\n",
       "      <th>employee_status</th>\n",
       "      <th>pay_basis</th>\n",
       "      <th>position_title</th>\n",
       "      <th>salary</th>\n",
       "    </tr>\n",
       "  </thead>\n",
       "  <tbody>\n",
       "    <tr>\n",
       "      <th>0</th>\n",
       "      <td>Heather</td>\n",
       "      <td>Employee</td>\n",
       "      <td>Per Annum</td>\n",
       "      <td>DEPUTY ASSISTANT TO THE PRESIDENT FOR ENERGY A...</td>\n",
       "      <td>100000</td>\n",
       "    </tr>\n",
       "    <tr>\n",
       "      <th>1</th>\n",
       "      <td>Allison</td>\n",
       "      <td>Employee</td>\n",
       "      <td>Per Annum</td>\n",
       "      <td>POLICY ASSISTANT</td>\n",
       "      <td>50000</td>\n",
       "    </tr>\n",
       "    <tr>\n",
       "      <th>2</th>\n",
       "      <td>Latoya</td>\n",
       "      <td>Employee</td>\n",
       "      <td>Per Annum</td>\n",
       "      <td>RECORDS MANAGEMENT ANALYST</td>\n",
       "      <td>58511</td>\n",
       "    </tr>\n",
       "    <tr>\n",
       "      <th>3</th>\n",
       "      <td>Katherine</td>\n",
       "      <td>Employee</td>\n",
       "      <td>Per Annum</td>\n",
       "      <td>STAFF ASSISTANT</td>\n",
       "      <td>42000</td>\n",
       "    </tr>\n",
       "    <tr>\n",
       "      <th>4</th>\n",
       "      <td>Reginald</td>\n",
       "      <td>Employee</td>\n",
       "      <td>Per Annum</td>\n",
       "      <td>RECORDS MANAGEMENT ANALYST</td>\n",
       "      <td>60232</td>\n",
       "    </tr>\n",
       "  </tbody>\n",
       "</table>\n",
       "</div>"
      ],
      "text/plain": [
       "  employee_name employee_status  pay_basis  \\\n",
       "0       Heather        Employee  Per Annum   \n",
       "1       Allison        Employee  Per Annum   \n",
       "2        Latoya        Employee  Per Annum   \n",
       "3     Katherine        Employee  Per Annum   \n",
       "4      Reginald        Employee  Per Annum   \n",
       "\n",
       "                                      position_title  salary  \n",
       "0  DEPUTY ASSISTANT TO THE PRESIDENT FOR ENERGY A...  100000  \n",
       "1                                   POLICY ASSISTANT   50000  \n",
       "2                         RECORDS MANAGEMENT ANALYST   58511  \n",
       "3                                    STAFF ASSISTANT   42000  \n",
       "4                         RECORDS MANAGEMENT ANALYST   60232  "
      ]
     },
     "execution_count": 22,
     "metadata": {},
     "output_type": "execute_result"
    }
   ],
   "source": [
    "#Return data2 using only first names\n",
    "data2['employee_name'] = data2['employee_name'].str.extract(\".+,\\s(\\w+)\", expand = True)\n",
    "\n",
    "#Check to see if our extract method worked as expected\n",
    "data2.head()"
   ]
  },
  {
   "cell_type": "markdown",
   "metadata": {},
   "source": [
    "Not every name in the Whitehouse data is in the baby names data, this creates an interesting challenge in figuring out how to classify the genders. Since the Whitehouse data set is small and 44 names will not be labeled which represents almost 10 percent of the data, I am going to impute. Best practice would be to talk to product owner or SME and discuss how to move forward, but for the purposes of this exercise I am going to do some imputing and assign genders based on some googling. "
   ]
  },
  {
   "cell_type": "code",
   "execution_count": 23,
   "metadata": {
    "collapsed": false
   },
   "outputs": [
    {
     "data": {
      "text/html": [
       "<div>\n",
       "<table border=\"1\" class=\"dataframe\">\n",
       "  <thead>\n",
       "    <tr style=\"text-align: right;\">\n",
       "      <th></th>\n",
       "      <th>Name</th>\n",
       "      <th>Gender</th>\n",
       "    </tr>\n",
       "  </thead>\n",
       "  <tbody>\n",
       "    <tr>\n",
       "      <th>0</th>\n",
       "      <td>Anand</td>\n",
       "      <td>male</td>\n",
       "    </tr>\n",
       "    <tr>\n",
       "      <th>1</th>\n",
       "      <td>Andrei</td>\n",
       "      <td>male</td>\n",
       "    </tr>\n",
       "    <tr>\n",
       "      <th>2</th>\n",
       "      <td>Araz</td>\n",
       "      <td>male</td>\n",
       "    </tr>\n",
       "    <tr>\n",
       "      <th>3</th>\n",
       "      <td>Astri</td>\n",
       "      <td>female</td>\n",
       "    </tr>\n",
       "    <tr>\n",
       "      <th>4</th>\n",
       "      <td>Avra</td>\n",
       "      <td>female</td>\n",
       "    </tr>\n",
       "  </tbody>\n",
       "</table>\n",
       "</div>"
      ],
      "text/plain": [
       "     Name  Gender\n",
       "0   Anand    male\n",
       "1  Andrei    male\n",
       "2    Araz    male\n",
       "3   Astri  female\n",
       "4    Avra  female"
      ]
     },
     "execution_count": 23,
     "metadata": {},
     "output_type": "execute_result"
    }
   ],
   "source": [
    "#Create dataframe of names that are present in Whitehouse data but not baby names\n",
    "names = pd.DataFrame(np.setdiff1d(data2['employee_name'],data1['name']))\n",
    "\n",
    "#Assign genders\n",
    "names['Gender'] = ['male','male','male','female','female','male','female','female','female','female',\n",
    "                   'female','female','male','male','male','female','female','female','male','female',\n",
    "                  'female','female','female','female','male','female','male','male','female','female',\n",
    "                  'female','female','female','female','female','male','male','male','female','female',\n",
    "                  'male','male','male','female']\n",
    "#Rename column\n",
    "names.rename(columns={0:'Name'}, inplace=True)\n",
    "\n",
    "names.head()"
   ]
  },
  {
   "cell_type": "code",
   "execution_count": 24,
   "metadata": {
    "collapsed": false
   },
   "outputs": [
    {
     "data": {
      "text/plain": [
       "array(['male', 'female'], dtype=object)"
      ]
     },
     "execution_count": 24,
     "metadata": {},
     "output_type": "execute_result"
    }
   ],
   "source": [
    "#Check that only two genders have been assigned\n",
    "names['Gender'].unique()"
   ]
  },
  {
   "cell_type": "code",
   "execution_count": 25,
   "metadata": {
    "collapsed": false
   },
   "outputs": [
    {
     "data": {
      "text/html": [
       "<div>\n",
       "<table border=\"1\" class=\"dataframe\">\n",
       "  <thead>\n",
       "    <tr style=\"text-align: right;\">\n",
       "      <th></th>\n",
       "      <th>Name</th>\n",
       "      <th>Gender</th>\n",
       "      <th>percent</th>\n",
       "    </tr>\n",
       "  </thead>\n",
       "  <tbody>\n",
       "    <tr>\n",
       "      <th>0</th>\n",
       "      <td>Aaden</td>\n",
       "      <td>male</td>\n",
       "      <td>0.000442</td>\n",
       "    </tr>\n",
       "    <tr>\n",
       "      <th>1</th>\n",
       "      <td>Aaliyah</td>\n",
       "      <td>female</td>\n",
       "      <td>0.019748</td>\n",
       "    </tr>\n",
       "    <tr>\n",
       "      <th>2</th>\n",
       "      <td>Aarav</td>\n",
       "      <td>male</td>\n",
       "      <td>0.000101</td>\n",
       "    </tr>\n",
       "    <tr>\n",
       "      <th>3</th>\n",
       "      <td>Aaron</td>\n",
       "      <td>female</td>\n",
       "      <td>0.292292</td>\n",
       "    </tr>\n",
       "    <tr>\n",
       "      <th>4</th>\n",
       "      <td>Ab</td>\n",
       "      <td>male</td>\n",
       "      <td>0.000218</td>\n",
       "    </tr>\n",
       "  </tbody>\n",
       "</table>\n",
       "</div>"
      ],
      "text/plain": [
       "      Name  Gender   percent\n",
       "0    Aaden    male  0.000442\n",
       "1  Aaliyah  female  0.019748\n",
       "2    Aarav    male  0.000101\n",
       "3    Aaron  female  0.292292\n",
       "4       Ab    male  0.000218"
      ]
     },
     "execution_count": 25,
     "metadata": {},
     "output_type": "execute_result"
    }
   ],
   "source": [
    "#Group name and sex together while summing up the percents\n",
    "genders = data1.groupby(['name','sex'],as_index = False)[['percent']].sum()\n",
    "\n",
    "#Take the higher percentage for each name and assign it the respective sex\n",
    "genders = genders.groupby('name', as_index = False).apply(lambda x: x.max())\n",
    "\n",
    "#Rename columns\n",
    "genders.rename(columns={'name':'Name', 'sex':'Gender'}, inplace = True)\n",
    "\n",
    "#Replace boy with male and girl with female\n",
    "genders.replace({'boy': 'male', 'girl':'female'}, inplace = True)\n",
    "\n",
    "genders.head()"
   ]
  },
  {
   "cell_type": "code",
   "execution_count": 26,
   "metadata": {
    "collapsed": false
   },
   "outputs": [
    {
     "data": {
      "text/html": [
       "<div>\n",
       "<table border=\"1\" class=\"dataframe\">\n",
       "  <thead>\n",
       "    <tr style=\"text-align: right;\">\n",
       "      <th></th>\n",
       "      <th>Gender</th>\n",
       "      <th>Name</th>\n",
       "      <th>percent</th>\n",
       "    </tr>\n",
       "  </thead>\n",
       "  <tbody>\n",
       "    <tr>\n",
       "      <th>0</th>\n",
       "      <td>male</td>\n",
       "      <td>Anand</td>\n",
       "      <td>NaN</td>\n",
       "    </tr>\n",
       "    <tr>\n",
       "      <th>1</th>\n",
       "      <td>male</td>\n",
       "      <td>Andrei</td>\n",
       "      <td>NaN</td>\n",
       "    </tr>\n",
       "    <tr>\n",
       "      <th>2</th>\n",
       "      <td>male</td>\n",
       "      <td>Araz</td>\n",
       "      <td>NaN</td>\n",
       "    </tr>\n",
       "    <tr>\n",
       "      <th>3</th>\n",
       "      <td>female</td>\n",
       "      <td>Astri</td>\n",
       "      <td>NaN</td>\n",
       "    </tr>\n",
       "    <tr>\n",
       "      <th>4</th>\n",
       "      <td>female</td>\n",
       "      <td>Avra</td>\n",
       "      <td>NaN</td>\n",
       "    </tr>\n",
       "  </tbody>\n",
       "</table>\n",
       "</div>"
      ],
      "text/plain": [
       "   Gender    Name  percent\n",
       "0    male   Anand      NaN\n",
       "1    male  Andrei      NaN\n",
       "2    male    Araz      NaN\n",
       "3  female   Astri      NaN\n",
       "4  female    Avra      NaN"
      ]
     },
     "execution_count": 26,
     "metadata": {},
     "output_type": "execute_result"
    }
   ],
   "source": [
    "#Concatenate names df with genders df\n",
    "frames = [names,genders]\n",
    "names_clean = pd.concat(frames)\n",
    "\n",
    "names_clean.head()"
   ]
  },
  {
   "cell_type": "code",
   "execution_count": 27,
   "metadata": {
    "collapsed": false
   },
   "outputs": [
    {
     "data": {
      "text/html": [
       "<div>\n",
       "<table border=\"1\" class=\"dataframe\">\n",
       "  <thead>\n",
       "    <tr style=\"text-align: right;\">\n",
       "      <th></th>\n",
       "      <th>employee_name</th>\n",
       "      <th>employee_status</th>\n",
       "      <th>pay_basis</th>\n",
       "      <th>position_title</th>\n",
       "      <th>salary</th>\n",
       "      <th>Name</th>\n",
       "      <th>Gender</th>\n",
       "    </tr>\n",
       "  </thead>\n",
       "  <tbody>\n",
       "    <tr>\n",
       "      <th>0</th>\n",
       "      <td>Heather</td>\n",
       "      <td>Employee</td>\n",
       "      <td>Per Annum</td>\n",
       "      <td>DEPUTY ASSISTANT TO THE PRESIDENT FOR ENERGY A...</td>\n",
       "      <td>100000</td>\n",
       "      <td>Heather</td>\n",
       "      <td>female</td>\n",
       "    </tr>\n",
       "    <tr>\n",
       "      <th>1</th>\n",
       "      <td>Allison</td>\n",
       "      <td>Employee</td>\n",
       "      <td>Per Annum</td>\n",
       "      <td>POLICY ASSISTANT</td>\n",
       "      <td>50000</td>\n",
       "      <td>Allison</td>\n",
       "      <td>female</td>\n",
       "    </tr>\n",
       "    <tr>\n",
       "      <th>2</th>\n",
       "      <td>Latoya</td>\n",
       "      <td>Employee</td>\n",
       "      <td>Per Annum</td>\n",
       "      <td>RECORDS MANAGEMENT ANALYST</td>\n",
       "      <td>58511</td>\n",
       "      <td>Latoya</td>\n",
       "      <td>female</td>\n",
       "    </tr>\n",
       "    <tr>\n",
       "      <th>3</th>\n",
       "      <td>Katherine</td>\n",
       "      <td>Employee</td>\n",
       "      <td>Per Annum</td>\n",
       "      <td>STAFF ASSISTANT</td>\n",
       "      <td>42000</td>\n",
       "      <td>Katherine</td>\n",
       "      <td>female</td>\n",
       "    </tr>\n",
       "    <tr>\n",
       "      <th>4</th>\n",
       "      <td>Reginald</td>\n",
       "      <td>Employee</td>\n",
       "      <td>Per Annum</td>\n",
       "      <td>RECORDS MANAGEMENT ANALYST</td>\n",
       "      <td>60232</td>\n",
       "      <td>Reginald</td>\n",
       "      <td>male</td>\n",
       "    </tr>\n",
       "  </tbody>\n",
       "</table>\n",
       "</div>"
      ],
      "text/plain": [
       "  employee_name employee_status  pay_basis  \\\n",
       "0       Heather        Employee  Per Annum   \n",
       "1       Allison        Employee  Per Annum   \n",
       "2        Latoya        Employee  Per Annum   \n",
       "3     Katherine        Employee  Per Annum   \n",
       "4      Reginald        Employee  Per Annum   \n",
       "\n",
       "                                      position_title  salary       Name  \\\n",
       "0  DEPUTY ASSISTANT TO THE PRESIDENT FOR ENERGY A...  100000    Heather   \n",
       "1                                   POLICY ASSISTANT   50000    Allison   \n",
       "2                         RECORDS MANAGEMENT ANALYST   58511     Latoya   \n",
       "3                                    STAFF ASSISTANT   42000  Katherine   \n",
       "4                         RECORDS MANAGEMENT ANALYST   60232   Reginald   \n",
       "\n",
       "   Gender  \n",
       "0  female  \n",
       "1  female  \n",
       "2  female  \n",
       "3  female  \n",
       "4    male  "
      ]
     },
     "execution_count": 27,
     "metadata": {},
     "output_type": "execute_result"
    }
   ],
   "source": [
    "#Merge the Whitehouse data with our clean names data\n",
    "data_final = pd.merge(data2,names_clean[['Name','Gender']],left_on='employee_name',right_on='Name',how='left')\n",
    "\n",
    "data_final.head()"
   ]
  },
  {
   "cell_type": "code",
   "execution_count": 77,
   "metadata": {
    "collapsed": false
   },
   "outputs": [
    {
     "data": {
      "text/plain": [
       "female    365\n",
       "male      104\n",
       "Name: Gender, dtype: int64"
      ]
     },
     "execution_count": 77,
     "metadata": {},
     "output_type": "execute_result"
    }
   ],
   "source": [
    "data_final['Gender'].value_counts()"
   ]
  },
  {
   "cell_type": "code",
   "execution_count": 28,
   "metadata": {
    "collapsed": false
   },
   "outputs": [],
   "source": [
    "#Create female mask where salary greater than 0 and employee status equals employee\n",
    "female_mask = data_final.loc[(data_final['Gender'] == 'female') & (data_final['salary'] > 0) \n",
    "                             & (data_final['employee_status'] == 'Employee')]\n",
    "\n",
    "#Reindex female_mask\n",
    "female_mask = female_mask.reset_index(drop = True)\n",
    "\n",
    "#Create male mask where salary greater than 0 and employee status equals employee\n",
    "male_mask = data_final.loc[(data_final['Gender'] == 'male') & (data_final['salary'] > 0) \n",
    "                           & (data_final['employee_status'] == 'Employee')]\n",
    "\n",
    "#Reindex male_mask\n",
    "male_mask = male_mask.reset_index(drop = True)"
   ]
  },
  {
   "cell_type": "code",
   "execution_count": 35,
   "metadata": {
    "collapsed": false
   },
   "outputs": [
    {
     "data": {
      "text/html": [
       "<div>\n",
       "<table border=\"1\" class=\"dataframe\">\n",
       "  <thead>\n",
       "    <tr style=\"text-align: right;\">\n",
       "      <th></th>\n",
       "      <th>salary</th>\n",
       "    </tr>\n",
       "  </thead>\n",
       "  <tbody>\n",
       "    <tr>\n",
       "      <th>count</th>\n",
       "      <td>337.000000</td>\n",
       "    </tr>\n",
       "    <tr>\n",
       "      <th>mean</th>\n",
       "      <td>81471.086053</td>\n",
       "    </tr>\n",
       "    <tr>\n",
       "      <th>std</th>\n",
       "      <td>40615.189099</td>\n",
       "    </tr>\n",
       "    <tr>\n",
       "      <th>min</th>\n",
       "      <td>37826.000000</td>\n",
       "    </tr>\n",
       "    <tr>\n",
       "      <th>25%</th>\n",
       "      <td>45900.000000</td>\n",
       "    </tr>\n",
       "    <tr>\n",
       "      <th>50%</th>\n",
       "      <td>66300.000000</td>\n",
       "    </tr>\n",
       "    <tr>\n",
       "      <th>75%</th>\n",
       "      <td>110000.000000</td>\n",
       "    </tr>\n",
       "    <tr>\n",
       "      <th>max</th>\n",
       "      <td>172200.000000</td>\n",
       "    </tr>\n",
       "  </tbody>\n",
       "</table>\n",
       "</div>"
      ],
      "text/plain": [
       "              salary\n",
       "count     337.000000\n",
       "mean    81471.086053\n",
       "std     40615.189099\n",
       "min     37826.000000\n",
       "25%     45900.000000\n",
       "50%     66300.000000\n",
       "75%    110000.000000\n",
       "max    172200.000000"
      ]
     },
     "execution_count": 35,
     "metadata": {},
     "output_type": "execute_result"
    }
   ],
   "source": [
    "female_mask.describe()"
   ]
  },
  {
   "cell_type": "code",
   "execution_count": 36,
   "metadata": {
    "collapsed": false
   },
   "outputs": [
    {
     "data": {
      "text/html": [
       "<div>\n",
       "<table border=\"1\" class=\"dataframe\">\n",
       "  <thead>\n",
       "    <tr style=\"text-align: right;\">\n",
       "      <th></th>\n",
       "      <th>salary</th>\n",
       "    </tr>\n",
       "  </thead>\n",
       "  <tbody>\n",
       "    <tr>\n",
       "      <th>count</th>\n",
       "      <td>97.000000</td>\n",
       "    </tr>\n",
       "    <tr>\n",
       "      <th>mean</th>\n",
       "      <td>77641.731959</td>\n",
       "    </tr>\n",
       "    <tr>\n",
       "      <th>std</th>\n",
       "      <td>38600.993113</td>\n",
       "    </tr>\n",
       "    <tr>\n",
       "      <th>min</th>\n",
       "      <td>42000.000000</td>\n",
       "    </tr>\n",
       "    <tr>\n",
       "      <th>25%</th>\n",
       "      <td>45000.000000</td>\n",
       "    </tr>\n",
       "    <tr>\n",
       "      <th>50%</th>\n",
       "      <td>61200.000000</td>\n",
       "    </tr>\n",
       "    <tr>\n",
       "      <th>75%</th>\n",
       "      <td>100000.000000</td>\n",
       "    </tr>\n",
       "    <tr>\n",
       "      <th>max</th>\n",
       "      <td>172200.000000</td>\n",
       "    </tr>\n",
       "  </tbody>\n",
       "</table>\n",
       "</div>"
      ],
      "text/plain": [
       "              salary\n",
       "count      97.000000\n",
       "mean    77641.731959\n",
       "std     38600.993113\n",
       "min     42000.000000\n",
       "25%     45000.000000\n",
       "50%     61200.000000\n",
       "75%    100000.000000\n",
       "max    172200.000000"
      ]
     },
     "execution_count": 36,
     "metadata": {},
     "output_type": "execute_result"
    }
   ],
   "source": [
    "male_mask.describe()"
   ]
  },
  {
   "cell_type": "code",
   "execution_count": 79,
   "metadata": {
    "collapsed": false
   },
   "outputs": [
    {
     "data": {
      "image/png": "[encoded data removed]",
      "text/plain": [
       "<matplotlib.figure.Figure at 0x10441f60>"
      ]
     },
     "metadata": {},
     "output_type": "display_data"
    }
   ],
   "source": [
    "#Plot histograms\n",
    "plt.figure(figsize=(20,10))\n",
    "plt.subplot(121)\n",
    "plt.hist(female_mask['salary'], color = \"Green\")\n",
    "plt.grid(True)\n",
    "plt.title('Histogram of Female Salaries\\n Whitehouse 2010\\n N = {}'.format(len(female_mask['salary'])), fontsize=16)\n",
    "plt.xlabel('Salary', fontsize=14)\n",
    "plt.ylabel('Frequency', fontsize=14)\n",
    "\n",
    "plt.subplot(122)\n",
    "plt.hist(male_mask['salary'], range=(female_mask['salary'].min(),male_mask['salary'].max()))\n",
    "plt.grid(True)\n",
    "plt.title('Histogram of Male Salaries\\n Whitehouse 2010\\n N = {}'.format(len(male_mask['salary'])), fontsize=16)\n",
    "plt.xlabel('Salary', fontsize=14)\n",
    "plt.ylabel('Frequency', fontsize=14)\n",
    "\n",
    "plt.subplots_adjust(left=0.2,wspace=0.2)\n",
    "plt.savefig('C:/Users/Josh/Desktop/Salary_Hist.png')"
   ]
  },
  {
   "cell_type": "code",
   "execution_count": 84,
   "metadata": {
    "collapsed": false
   },
   "outputs": [
    {
     "data": {
      "image/png": "[encoded data removed]",
      "text/plain": [
       "<matplotlib.figure.Figure at 0xe8180b8>"
      ]
     },
     "metadata": {},
     "output_type": "display_data"
    }
   ],
   "source": [
    "#Plot box plots\n",
    "plt.figure(figsize=(20,10))\n",
    "plt.boxplot([female_mask['salary'], male_mask['salary']])\n",
    "plt.grid(True)\n",
    "plt.title('Boxplot of Salaries\\n Whitehouse 2010\\n N = {}'.format(len(female_mask) + len(male_mask)), fontsize=16)\n",
    "plt.ylabel('Salary in Dollars', fontsize=14)\n",
    "plt.xticks([1,2], ['Female','Male'], fontsize=14)\n",
    "plt.savefig('C:/Users/Josh/Desktop/Salary_Box.png')"
   ]
  },
  {
   "cell_type": "code",
   "execution_count": 179,
   "metadata": {
    "collapsed": false
   },
   "outputs": [],
   "source": [
    "data_final.to_csv('C:/Users/Josh/Desktop/MITRE_Final.csv')"
   ]
  },
  {
   "cell_type": "code",
   "execution_count": 81,
   "metadata": {
    "collapsed": false
   },
   "outputs": [
    {
     "data": {
      "text/plain": [
       "434"
      ]
     },
     "execution_count": 81,
     "metadata": {},
     "output_type": "execute_result"
    }
   ],
   "source": [
    "len(female_mask) + len(male_mask)"
   ]
  },
  {
   "cell_type": "code",
   "execution_count": null,
   "metadata": {
    "collapsed": true
   },
   "outputs": [],
   "source": []
  }
 ],
 "metadata": {
  "kernelspec": {
   "display_name": "Python 3",
   "language": "python",
   "name": "python3"
  },
  "language_info": {
   "codemirror_mode": {
    "name": "ipython",
    "version": 3
   },
   "file_extension": ".py",
   "mimetype": "text/x-python",
   "name": "python",
   "nbconvert_exporter": "python",
   "pygments_lexer": "ipython3",
   "version": "3.5.4"
  }
 },
 "nbformat": 4,
 "nbformat_minor": 2
}
